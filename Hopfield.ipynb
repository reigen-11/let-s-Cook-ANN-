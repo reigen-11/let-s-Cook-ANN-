{
 "cells": [
  {
   "metadata": {
    "ExecuteTime": {
     "end_time": "2024-05-08T18:39:18.938524Z",
     "start_time": "2024-05-08T18:39:18.931931Z"
    }
   },
   "cell_type": "code",
   "source": [
    "import numpy as np\n",
    "\n",
    "class HopfieldNetwork:\n",
    "    def __init__(self, patterns):\n",
    "        self.patterns = patterns\n",
    "        self.num_neurons = patterns.shape[1]\n",
    "        self.weights = np.zeros((self.num_neurons, self.num_neurons))\n",
    "        self._train()\n",
    "\n",
    "    def _train(self):\n",
    "        for pattern in self.patterns:\n",
    "            self.weights += np.outer(pattern, pattern)\n",
    "        np.fill_diagonal(self.weights, 0)\n",
    "\n",
    "    def _update_neuron(self, neuron_idx, state):\n",
    "        activation = np.dot(self.weights[neuron_idx], state)\n",
    "        return np.sign(activation)\n",
    "\n",
    "    def update(self, initial_state, max_iterations=100):\n",
    "        current_state = initial_state.copy()\n",
    "        for _ in range(max_iterations):\n",
    "            neuron_idx = np.random.randint(self.num_neurons)\n",
    "            new_state = self._update_neuron(neuron_idx, current_state)\n",
    "            if new_state == current_state[neuron_idx]:\n",
    "                return current_state\n",
    "            current_state[neuron_idx] = new_state\n",
    "        return current_state\n",
    "\n",
    "patterns = np.array([[1, 1, 1, -1],\n",
    "                     [-1, 1, -1, 1],\n",
    "                     [-1, 1, 1, -1],\n",
    "                     [-1, -1, -1, 1]])\n",
    "\n",
    "initial_state = np.array([1, 1, -1, 1])\n",
    "\n",
    "hopfield_net = HopfieldNetwork(patterns)\n",
    "final_state = hopfield_net.update(initial_state)\n",
    "\n",
    "print(\"Initial State:\", initial_state)\n",
    "print(\"Final State:\", final_state)\n"
   ],
   "id": "1c1acec5534969a0",
   "outputs": [
    {
     "name": "stdout",
     "output_type": "stream",
     "text": [
      "Initial State: [ 1  1 -1  1]\n",
      "Final State: [-1  1 -1  1]\n"
     ]
    }
   ],
   "execution_count": 16
  }
 ],
 "metadata": {
  "kernelspec": {
   "display_name": "Python 3",
   "language": "python",
   "name": "python3"
  },
  "language_info": {
   "codemirror_mode": {
    "name": "ipython",
    "version": 2
   },
   "file_extension": ".py",
   "mimetype": "text/x-python",
   "name": "python",
   "nbconvert_exporter": "python",
   "pygments_lexer": "ipython2",
   "version": "2.7.6"
  }
 },
 "nbformat": 4,
 "nbformat_minor": 5
}
