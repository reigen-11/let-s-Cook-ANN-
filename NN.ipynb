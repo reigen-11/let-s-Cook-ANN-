{
 "cells": [
  {
   "cell_type": "code",
   "id": "94704233e20b04ea",
   "metadata": {
    "collapsed": false,
    "tags": [],
    "ExecuteTime": {
     "end_time": "2024-05-08T23:54:40.149733Z",
     "start_time": "2024-05-08T23:54:40.012034Z"
    }
   },
   "source": [
    "import numpy as np"
   ],
   "outputs": [],
   "execution_count": 1
  },
  {
   "cell_type": "code",
   "id": "185fa9f67878d2dc",
   "metadata": {
    "collapsed": false,
    "tags": [],
    "ExecuteTime": {
     "end_time": "2024-05-08T23:54:41.158594Z",
     "start_time": "2024-05-08T23:54:41.153810Z"
    }
   },
   "source": [
    "def isprime(x):\n",
    "    if x == 0:\n",
    "        return 0\n",
    "    if x == 1 or x == 2:\n",
    "        return 1\n",
    "    for i in range(2, x):\n",
    "        if x % i == 0:\n",
    "            return 0 \n",
    "        else:\n",
    "            return 1\n",
    "X = [i for i in range(8)]\n",
    "y = [isprime(i) for i in X]\n",
    "\n",
    "def map_last_digit(data):\n",
    "    X_train = []\n",
    "    for number in data:\n",
    "        number = ord(str(number))\n",
    "        binary_representation = bin(number)[5:]\n",
    "        list_of_integers = [int(digit) for digit in binary_representation]\n",
    "        X_train.append(list_of_integers)\n",
    "    return np.array(X_train)\n",
    "\n",
    "X_train = map_last_digit(X)\n",
    "y_train = np.array(y)"
   ],
   "outputs": [],
   "execution_count": 2
  },
  {
   "cell_type": "code",
   "id": "f4b7576418d083a4",
   "metadata": {
    "collapsed": false,
    "tags": [],
    "ExecuteTime": {
     "end_time": "2024-05-08T23:54:42.868101Z",
     "start_time": "2024-05-08T23:54:42.864412Z"
    }
   },
   "source": [
    "print(X_train)\n",
    "print(y_train)"
   ],
   "outputs": [
    {
     "name": "stdout",
     "output_type": "stream",
     "text": [
      "[[0 0 0]\n",
      " [0 0 1]\n",
      " [0 1 0]\n",
      " [0 1 1]\n",
      " [1 0 0]\n",
      " [1 0 1]\n",
      " [1 1 0]\n",
      " [1 1 1]]\n",
      "[0 1 1 1 0 1 0 1]\n"
     ]
    }
   ],
   "execution_count": 3
  },
  {
   "cell_type": "code",
   "id": "e03562b6ed6121e",
   "metadata": {
    "collapsed": false,
    "tags": [],
    "ExecuteTime": {
     "end_time": "2024-05-08T08:43:56.767388Z",
     "start_time": "2024-05-08T08:43:56.758635Z"
    }
   },
   "source": [
    "class NeuralNetwork:\n",
    "    def __init__(self, layer_1: int, layer_2: int, output_size: int):\n",
    "        self.weights_1 = np.random.uniform(low=-0.5, high=0.5, size=(layer_1, layer_2))\n",
    "        self.weights_2 = np.random.uniform(low=-0.5, high=0.5, size=(layer_2, output_size))\n",
    "        self.biases_1 = np.zeros((1, layer_2))\n",
    "        self.biases_2 = 0\n",
    "\n",
    "    def sigmoid(self, x):\n",
    "        return 1 / (1 + np.exp(-x))\n",
    "\n",
    "    def sigmoid_derivative(self, x):\n",
    "        return self.sigmoid(x) * (1 - self.sigmoid(x))\n",
    "    \n",
    "    def train(self, X, y, learning_rate, epochs, verbose:bool=False):\n",
    "        SSR = []\n",
    "        MAE = []\n",
    "        for epoch in range(epochs):\n",
    "            total_error = 0\n",
    "            total_error_squared = 0\n",
    "            for inputs, label in zip(X, y):\n",
    "                forward_1 = [inputs @ self.weights_1] + self.biases_1\n",
    "                activated_1 = self.sigmoid(forward_1)\n",
    "                forward_2 = activated_1 @ self.weights_2 + self.biases_2\n",
    "                output = self.sigmoid(forward_2)[0][0]\n",
    "\n",
    "                error = label - output\n",
    "                total_error += np.sum(error)\n",
    "                total_error_squared += np.sum(error ** 2)\n",
    "\n",
    "                bias_2_delta = -2 * total_error * self.sigmoid_derivative(forward_2)\n",
    "                bias_1_delta = self.weights_2.T * self.sigmoid_derivative(forward_1)\n",
    "                weights_2_delta = bias_2_delta * activated_1\n",
    "                weights_1_delta = bias_2_delta * bias_1_delta * inputs\n",
    "                    \n",
    "                self.biases_2 -= bias_2_delta * learning_rate\n",
    "                self.weights_2 -= weights_2_delta.T * learning_rate\n",
    "                self.biases_1 -= bias_2_delta * bias_1_delta * learning_rate\n",
    "                self.weights_1 = (self.weights_1.T - (weights_1_delta * learning_rate)).T\n",
    "            SSR.append(total_error_squared)\n",
    "            MAE.append(total_error)\n",
    "            \n",
    "            if verbose:\n",
    "                print(f\"Epoch {epoch+1}/{epochs},\\n\"\n",
    "                      f\"Total Error: {total_error_squared},\\n\"\n",
    "                      f\"absolute_error: {total_error}\\n\"\n",
    "                      f\"{print('='*100)}\")  \n",
    "        return SSR, MAE\n",
    "            \n",
    "                 \n",
    "    def predict(self, inputs):\n",
    "        forward_1 = [inputs @ self.weights_1] + self.biases_1\n",
    "        activated_1 = self.sigmoid(forward_1)\n",
    "        forward_2 = activated_1 @ self.weights_2 + self.biases_2\n",
    "        output = self.sigmoid(forward_2)[0][0]\n",
    "        return output"
   ],
   "execution_count": 4,
   "outputs": []
  },
  {
   "cell_type": "code",
   "id": "4e33394967cb6ad8",
   "metadata": {
    "collapsed": false,
    "tags": [],
    "ExecuteTime": {
     "end_time": "2024-05-08T08:44:04.036922Z",
     "start_time": "2024-05-08T08:44:01.754251Z"
    }
   },
   "source": [
    "nn = NeuralNetwork(3, 3, 1)\n",
    "\n",
    "SSR, MAE = nn.train(X_train, y_train, 0.1, 5000, verbose=True)"
   ],
   "execution_count": 5,
   "outputs": []
  },
  {
   "cell_type": "code",
   "id": "fb5d97d7644b827a",
   "metadata": {
    "collapsed": false,
    "tags": [],
    "ExecuteTime": {
     "end_time": "2024-05-08T08:44:05.627324Z",
     "start_time": "2024-05-08T08:44:05.621929Z"
    }
   },
   "source": [
    "print(SSR)"
   ],
   "execution_count": 6,
   "outputs": []
  },
  {
   "cell_type": "code",
   "id": "1e1f6798f24fabf3",
   "metadata": {
    "collapsed": false,
    "tags": [],
    "ExecuteTime": {
     "end_time": "2024-05-08T08:44:07.790753Z",
     "start_time": "2024-05-08T08:44:07.358586Z"
    }
   },
   "source": [
    "import matplotlib.pyplot as plt\n",
    "\n",
    "e = range(1, len(SSR) + 1)\n",
    "plt.plot(e, SSR, color='midnightblue')\n",
    "plt.show()"
   ],
   "execution_count": 7,
   "outputs": []
  },
  {
   "cell_type": "code",
   "execution_count": null,
   "id": "52a9893aec1a0ceb",
   "metadata": {
    "collapsed": false
   },
   "source": [],
   "outputs": []
  }
 ],
 "metadata": {
  "kernelspec": {
   "display_name": "Python 3 (ipykernel)",
   "language": "python",
   "name": "python3"
  },
  "language_info": {
   "codemirror_mode": {
    "name": "ipython",
    "version": 3
   },
   "file_extension": ".py",
   "mimetype": "text/x-python",
   "name": "python",
   "nbconvert_exporter": "python",
   "pygments_lexer": "ipython3",
   "version": "3.11.5"
  }
 },
 "nbformat": 4,
 "nbformat_minor": 5
}
