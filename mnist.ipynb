{
 "cells": [
  {
   "cell_type": "code",
   "id": "initial_id",
   "metadata": {
    "collapsed": true,
    "ExecuteTime": {
     "end_time": "2024-05-07T17:32:51.902178Z",
     "start_time": "2024-05-07T17:32:47.332982Z"
    }
   },
   "source": [
    "import tensorflow as tf\n",
    "from tensorflow.keras.datasets import mnist\n",
    "import numpy as np\n",
    "from sklearn.metrics import classification_report"
   ],
   "execution_count": 2,
   "outputs": []
  },
  {
   "metadata": {
    "ExecuteTime": {
     "end_time": "2024-05-07T17:33:00.261479Z",
     "start_time": "2024-05-07T17:32:53.412174Z"
    }
   },
   "cell_type": "code",
   "source": "(x_train , y_train) , (x_test , y_test) = mnist.load_data()",
   "id": "dd861234dc1197bd",
   "execution_count": 3,
   "outputs": []
  },
  {
   "metadata": {
    "ExecuteTime": {
     "end_time": "2024-05-07T17:33:06.679167Z",
     "start_time": "2024-05-07T17:33:06.450916Z"
    }
   },
   "cell_type": "code",
   "source": "x_train, x_test = x_train / 255.0, x_test / 255.0",
   "id": "2e54aa3b176af557",
   "execution_count": 4,
   "outputs": []
  },
  {
   "metadata": {
    "ExecuteTime": {
     "end_time": "2024-05-07T17:33:08.045081Z",
     "start_time": "2024-05-07T17:33:07.426863Z"
    }
   },
   "cell_type": "code",
   "source": [
    "x_train_flat = tf.keras.utils.normalize(x_train , axis = 1)\n",
    "x_test_flat = tf.keras.utils.normalize(x_test , axis = 1)"
   ],
   "id": "969acac53e4a9cbf",
   "execution_count": 5,
   "outputs": []
  },
  {
   "metadata": {
    "ExecuteTime": {
     "end_time": "2024-05-07T17:33:08.985783Z",
     "start_time": "2024-05-07T17:33:08.901569Z"
    }
   },
   "cell_type": "code",
   "source": [
    "model = tf.keras.models.Sequential([\n",
    "  tf.keras.layers.Flatten(input_shape=(28, 28)),\n",
    "  tf.keras.layers.Dense(512, activation='relu'),\n",
    "  tf.keras.layers.Dropout(0.2),\n",
    "  tf.keras.layers.Dense(10)\n",
    "])"
   ],
   "id": "9cf30064f8728a98",
   "execution_count": 6,
   "outputs": []
  },
  {
   "metadata": {
    "ExecuteTime": {
     "end_time": "2024-05-07T17:33:19.528255Z",
     "start_time": "2024-05-07T17:33:19.509328Z"
    }
   },
   "cell_type": "code",
   "source": [
    "model.compile(optimizer='adam',\n",
    "              loss=tf.keras.losses.SparseCategoricalCrossentropy(from_logits=True),\n",
    "              metrics=['accuracy'])"
   ],
   "id": "5f0ed607d26a8031",
   "execution_count": 7,
   "outputs": []
  },
  {
   "metadata": {
    "ExecuteTime": {
     "end_time": "2024-05-07T17:33:41.348980Z",
     "start_time": "2024-05-07T17:33:20.802555Z"
    }
   },
   "cell_type": "code",
   "source": "model.fit(x_train, y_train, epochs=5)",
   "id": "b21d99f710106984",
   "execution_count": 8,
   "outputs": []
  },
  {
   "metadata": {
    "ExecuteTime": {
     "end_time": "2024-05-07T17:33:42.751883Z",
     "start_time": "2024-05-07T17:33:42.362421Z"
    }
   },
   "cell_type": "code",
   "source": [
    "test_loss, test_acc = model.evaluate(x_test,  y_test, verbose=2)\n",
    "print('\\nTest accuracy:', test_acc)"
   ],
   "id": "7285db4aa1483de6",
   "execution_count": 9,
   "outputs": []
  },
  {
   "metadata": {
    "ExecuteTime": {
     "end_time": "2024-05-07T17:33:48.432980Z",
     "start_time": "2024-05-07T17:33:48.032886Z"
    }
   },
   "cell_type": "code",
   "source": "y_pred = np.argmax(model.predict(x_test), axis=-1)",
   "id": "c3869dd57e4a3a7e",
   "execution_count": 10,
   "outputs": []
  },
  {
   "metadata": {
    "ExecuteTime": {
     "end_time": "2024-05-07T17:33:50.841648Z",
     "start_time": "2024-05-07T17:33:50.808072Z"
    }
   },
   "cell_type": "code",
   "source": "print(classification_report(y_test, y_pred))",
   "id": "6f045474d31e7ce7",
   "execution_count": 11,
   "outputs": []
  }
 ],
 "metadata": {
  "kernelspec": {
   "display_name": "Python 3",
   "language": "python",
   "name": "python3"
  },
  "language_info": {
   "codemirror_mode": {
    "name": "ipython",
    "version": 2
   },
   "file_extension": ".py",
   "mimetype": "text/x-python",
   "name": "python",
   "nbconvert_exporter": "python",
   "pygments_lexer": "ipython2",
   "version": "2.7.6"
  }
 },
 "nbformat": 4,
 "nbformat_minor": 5
}
