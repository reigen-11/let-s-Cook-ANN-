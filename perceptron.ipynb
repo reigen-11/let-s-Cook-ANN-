{
 "cells": [
  {
   "cell_type": "code",
   "id": "initial_id",
   "metadata": {
    "collapsed": true,
    "ExecuteTime": {
     "end_time": "2024-05-08T23:13:21.597449Z",
     "start_time": "2024-05-08T23:13:21.034871Z"
    }
   },
   "source": [
    "import numpy as np\n",
    "from matplotlib import pyplot as plt\n",
    "from mlxtend.plotting import plot_decision_regions"
   ],
   "execution_count": 4,
   "outputs": []
  },
  {
   "metadata": {
    "ExecuteTime": {
     "end_time": "2024-05-08T23:13:21.601661Z",
     "start_time": "2024-05-08T23:13:21.598800Z"
    }
   },
   "cell_type": "code",
   "source": [
    "def map_last_digit(data):\n",
    "    X_train = []\n",
    "    for number in data:\n",
    "        last = number % 10\n",
    "        last = ord(str(last))\n",
    "        binary_representation = bin(last)[2:].zfill(7)\n",
    "        list_of_integers = [int(digit) for digit in binary_representation]\n",
    "        X_train.append(list_of_integers)\n",
    "    return np.array(X_train)"
   ],
   "id": "be7625fcf4abffed",
   "execution_count": 5,
   "outputs": []
  },
  {
   "metadata": {
    "ExecuteTime": {
     "end_time": "2024-05-08T23:13:21.607210Z",
     "start_time": "2024-05-08T23:13:21.603074Z"
    }
   },
   "cell_type": "code",
   "source": [
    "class Perceptron:\n",
    "    def __init__(self, input_size):\n",
    "        self.weights = np.random.normal(size=input_size)\n",
    "        self.bias = np.random.normal()\n",
    "\n",
    "    def predict(self, inputs):\n",
    "        summation = np.dot(self.weights, inputs.flatten()) + self.bias\n",
    "        return 1 if summation > 0.5 else 0\n",
    "\n",
    "    def train(self, training_inputs, labels, epochs, learning_rate):\n",
    "        for epoch in range(epochs):\n",
    "            for inputs, label in zip(training_inputs, labels):\n",
    "                pred = self.predict(inputs)\n",
    "                self.weights += learning_rate * (label - pred) * inputs\n",
    "                self.bias += learning_rate * (label - pred)"
   ],
   "id": "723b3a2711e34fcd",
   "execution_count": 6,
   "outputs": []
  },
  {
   "metadata": {
    "ExecuteTime": {
     "end_time": "2024-05-08T23:13:22.467638Z",
     "start_time": "2024-05-08T23:13:22.464824Z"
    }
   },
   "cell_type": "code",
   "source": [
    "X = np.array([i for i in range(0, 10)])\n",
    "X_train = map_last_digit(X)\n",
    "y = np.array([1 if i % 2 == 0 else 0 for i in X])"
   ],
   "id": "750b8aca47021c0b",
   "execution_count": 7,
   "outputs": []
  },
  {
   "metadata": {
    "ExecuteTime": {
     "end_time": "2024-05-08T23:13:23.928380Z",
     "start_time": "2024-05-08T23:13:23.924440Z"
    }
   },
   "cell_type": "code",
   "source": "print(X_train, y)",
   "id": "197bea4e8b362f54",
   "execution_count": 8,
   "outputs": []
  },
  {
   "metadata": {
    "ExecuteTime": {
     "end_time": "2024-05-08T08:24:26.158375Z",
     "start_time": "2024-05-08T08:24:26.155853Z"
    }
   },
   "cell_type": "code",
   "source": "model = Perceptron(len(X_train[0]))",
   "id": "2c346a0bbdf11820",
   "execution_count": 12,
   "outputs": []
  },
  {
   "metadata": {
    "ExecuteTime": {
     "end_time": "2024-05-08T08:24:26.649876Z",
     "start_time": "2024-05-08T08:24:26.635457Z"
    }
   },
   "cell_type": "code",
   "source": "model.train(X_train, y, 100, 0.1)",
   "id": "e743385d5d3c97a4",
   "execution_count": 13,
   "outputs": []
  },
  {
   "metadata": {
    "ExecuteTime": {
     "end_time": "2024-05-08T08:24:27.496327Z",
     "start_time": "2024-05-08T08:24:27.492932Z"
    }
   },
   "cell_type": "code",
   "source": [
    "eval = [i for i in range(0, 10)]\n",
    "res = [model.predict(map_last_digit([i])) for i in eval]\n",
    "prediction = model.predict(map_last_digit([0]))"
   ],
   "id": "b25d4dbd9303d596",
   "execution_count": 14,
   "outputs": []
  },
  {
   "metadata": {
    "ExecuteTime": {
     "end_time": "2024-05-08T08:24:28.021970Z",
     "start_time": "2024-05-08T08:24:28.017419Z"
    }
   },
   "cell_type": "code",
   "source": "res",
   "id": "de81f033bce84bb4",
   "execution_count": 15,
   "outputs": []
  },
  {
   "metadata": {},
   "cell_type": "code",
   "execution_count": null,
   "source": "",
   "id": "6776cf169a918fd1",
   "outputs": []
  }
 ],
 "metadata": {
  "kernelspec": {
   "display_name": "Python 3",
   "language": "python",
   "name": "python3"
  },
  "language_info": {
   "codemirror_mode": {
    "name": "ipython",
    "version": 2
   },
   "file_extension": ".py",
   "mimetype": "text/x-python",
   "name": "python",
   "nbconvert_exporter": "python",
   "pygments_lexer": "ipython2",
   "version": "2.7.6"
  }
 },
 "nbformat": 4,
 "nbformat_minor": 5
}
