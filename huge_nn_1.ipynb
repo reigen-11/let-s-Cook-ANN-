{
 "cells": [
  {
   "cell_type": "code",
   "id": "initial_id",
   "metadata": {
    "collapsed": true,
    "ExecuteTime": {
     "end_time": "2024-05-09T00:46:37.991697Z",
     "start_time": "2024-05-09T00:46:36.901858Z"
    }
   },
   "source": [
    "import numpy as np\n",
    "import pandas as pd\n",
    "import matplotlib.pyplot as plt\n",
    "import math\n",
    "from sklearn.preprocessing import StandardScaler\n",
    "from sklearn.datasets import load_iris"
   ],
   "outputs": [],
   "execution_count": 1
  },
  {
   "metadata": {
    "ExecuteTime": {
     "end_time": "2024-05-09T00:46:38.964319Z",
     "start_time": "2024-05-09T00:46:38.957092Z"
    }
   },
   "cell_type": "code",
   "source": [
    "iris = load_iris()\n",
    "X = iris.data\n",
    "y = iris.target\n",
    "scaler = StandardScaler()\n",
    "X = scaler.fit_transform(X)\n",
    "map_labels = {0: 'setosa', 1: 'versicolor', 2: 'virginica'}"
   ],
   "id": "ea75f89287913882",
   "outputs": [],
   "execution_count": 2
  },
  {
   "metadata": {
    "ExecuteTime": {
     "end_time": "2024-05-09T00:46:39.866959Z",
     "start_time": "2024-05-09T00:46:39.859642Z"
    }
   },
   "cell_type": "code",
   "source": "X[0]",
   "id": "90de6413decc869b",
   "outputs": [
    {
     "data": {
      "text/plain": [
       "array([-0.90068117,  1.01900435, -1.34022653, -1.3154443 ])"
      ]
     },
     "execution_count": 3,
     "metadata": {},
     "output_type": "execute_result"
    }
   ],
   "execution_count": 3
  },
  {
   "metadata": {
    "ExecuteTime": {
     "end_time": "2024-05-09T00:46:42.248758Z",
     "start_time": "2024-05-09T00:46:42.245399Z"
    }
   },
   "cell_type": "code",
   "source": "y[0]",
   "id": "282700b03ba51e20",
   "outputs": [
    {
     "data": {
      "text/plain": [
       "0"
      ]
     },
     "execution_count": 4,
     "metadata": {},
     "output_type": "execute_result"
    }
   ],
   "execution_count": 4
  },
  {
   "metadata": {
    "ExecuteTime": {
     "end_time": "2024-05-08T17:52:32.240260Z",
     "start_time": "2024-05-08T17:52:32.231346Z"
    }
   },
   "cell_type": "code",
   "source": [
    "class classification_is_the_tip_of_iceberg:\n",
    "    def __init__(self, input_layer: int, hidden_layer: int, output_layer: int):\n",
    "        self.weights_1 = np.random.uniform(-0.5, 0.5, size=(input_layer, hidden_layer))\n",
    "        self.biases_1 = np.random.uniform(-0.5, 0.5, size=(1, hidden_layer))\n",
    "        self.weights_2 = np.random.uniform(-0.5, 0.5, size=(hidden_layer, output_layer))\n",
    "        self.biases_2 = np.random.uniform(-0.5, 0.5, size=(1, output_layer))\n",
    "    \n",
    "    def softmax(self, A):\n",
    "        expA = np.exp(A)\n",
    "        return expA / expA.sum(axis=1, keepdims=True)  \n",
    "            \n",
    "    def relu(self, x):\n",
    "        return np.maximum(0, x)\n",
    "    \n",
    "    def relu_derivative(self, x):\n",
    "        return np.where(x > 0, 1, 0)\n",
    "    \n",
    "    def train(self, X: np.ndarray, y, epochs: int, learning_rate: float):\n",
    "        entropy = []\n",
    "        targets = np.zeros((len(y), 3))\n",
    "        targets[np.arange(len(y)), y] = 1\n",
    "        for epoch in range(epochs):\n",
    "            f1 = X @ self.weights_1 + self.biases_1\n",
    "            a1 = self.relu(f1)\n",
    "            f2 = a1 @ self.weights_2 + self.biases_2\n",
    "            output = self.softmax(f2)\n",
    "\n",
    "            # Compute cross entropy loss\n",
    "            loss = -np.sum(targets * np.log(output)) / len(y)\n",
    "            entropy.append(loss)\n",
    "        \n",
    "            # Backpropagation\n",
    "            delta_output = output - targets\n",
    "            delta_hidden = delta_output @ self.weights_2.T * self.relu_derivative(f1)\n",
    "        \n",
    "            # Update weights and biases\n",
    "            self.weights_2 -= learning_rate * a1.T @ delta_output\n",
    "            self.biases_2 -= learning_rate * np.sum(delta_output, axis=0, keepdims=True)\n",
    "            self.weights_1 -= learning_rate * X.T @ delta_hidden\n",
    "            self.biases_1 -= learning_rate * np.sum(delta_hidden, axis=0, keepdims=True)\n",
    "                \n",
    "        return entropy\n",
    "    \n",
    "    def predict(self, X_test):\n",
    "        f1 = X_test @ self.weights_1 + self.biases_1\n",
    "        a1 = self.relu(f1)\n",
    "        f2 = a1 @ self.weights_2 + self.biases_2\n",
    "        output = self.softmax(f2)\n",
    "        return output"
   ],
   "id": "2281623ed4d70ead",
   "execution_count": 29,
   "outputs": []
  },
  {
   "metadata": {
    "ExecuteTime": {
     "end_time": "2024-05-08T17:52:32.742153Z",
     "start_time": "2024-05-08T17:52:32.718135Z"
    }
   },
   "cell_type": "code",
   "source": [
    "classifier = classification_is_the_tip_of_iceberg(4, 100, 3)\n",
    "loss = classifier.train(X, y, epochs=100, learning_rate=0.01)"
   ],
   "id": "c47c0218ccc061be",
   "execution_count": 30,
   "outputs": []
  },
  {
   "metadata": {
    "ExecuteTime": {
     "end_time": "2024-05-08T17:52:33.340950Z",
     "start_time": "2024-05-08T17:52:33.335633Z"
    }
   },
   "cell_type": "code",
   "source": "loss",
   "id": "ec357ce277dfbbcd",
   "execution_count": 31,
   "outputs": []
  },
  {
   "metadata": {
    "ExecuteTime": {
     "end_time": "2024-05-08T17:52:33.844295Z",
     "start_time": "2024-05-08T17:52:33.764651Z"
    }
   },
   "cell_type": "code",
   "source": [
    "e = range(1, len(loss) + 1)\n",
    "plt.plot(e, loss, color='midnightblue')\n",
    "plt.show()"
   ],
   "id": "f678bb271468e6f3",
   "execution_count": 32,
   "outputs": []
  },
  {
   "metadata": {
    "ExecuteTime": {
     "end_time": "2024-05-08T17:55:25.520811Z",
     "start_time": "2024-05-08T17:55:25.518002Z"
    }
   },
   "cell_type": "code",
   "source": [
    "ox = classifier.predict(X[99])\n",
    "print(np.argmax(ox,axis=1))"
   ],
   "id": "4f7f1295ef999850",
   "execution_count": 42,
   "outputs": []
  }
 ],
 "metadata": {
  "kernelspec": {
   "display_name": "Python 3",
   "language": "python",
   "name": "python3"
  },
  "language_info": {
   "codemirror_mode": {
    "name": "ipython",
    "version": 2
   },
   "file_extension": ".py",
   "mimetype": "text/x-python",
   "name": "python",
   "nbconvert_exporter": "python",
   "pygments_lexer": "ipython2",
   "version": "2.7.6"
  }
 },
 "nbformat": 4,
 "nbformat_minor": 5
}
